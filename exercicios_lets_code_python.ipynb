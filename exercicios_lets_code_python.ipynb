{
  "nbformat": 4,
  "nbformat_minor": 0,
  "metadata": {
    "colab": {
      "provenance": [],
      "authorship_tag": "ABX9TyPhS8Mvv4QgHq0ZtK8o1p8j",
      "include_colab_link": true
    },
    "kernelspec": {
      "name": "python3",
      "display_name": "Python 3"
    },
    "language_info": {
      "name": "python"
    }
  },
  "cells": [
    {
      "cell_type": "markdown",
      "metadata": {
        "id": "view-in-github",
        "colab_type": "text"
      },
      "source": [
        "<a href=\"https://colab.research.google.com/github/cmd1301/lets_code_studies_Python/blob/main/exercicios_lets_code_python.ipynb\" target=\"_parent\"><img src=\"https://colab.research.google.com/assets/colab-badge.svg\" alt=\"Open In Colab\"/></a>"
      ]
    },
    {
      "cell_type": "markdown",
      "source": [
        "# Exercícios Let's Code - Python"
      ],
      "metadata": {
        "id": "zf2j915H-y9a"
      }
    },
    {
      "cell_type": "markdown",
      "source": [
        "Módulo I"
      ],
      "metadata": {
        "id": "vORNjIy2_9jh"
      }
    },
    {
      "cell_type": "code",
      "source": [
        "# 1. Faça um programa que peça um valor monetário e diminua-o em 15%. Seu programa deve imprimir a mensagem “O novo valor é [valor]”.\n",
        "valor = float(input('Insira um valor em R$: '))\n",
        "nvalor = valor - 0.15*valor\n",
        "print('O novo valor é', nvalor)"
      ],
      "metadata": {
        "colab": {
          "base_uri": "https://localhost:8080/"
        },
        "id": "snV5Ec57_EbR",
        "outputId": "b3eae397-f5d3-46cf-a835-c6e22e394abe"
      },
      "execution_count": null,
      "outputs": [
        {
          "output_type": "stream",
          "name": "stdout",
          "text": [
            "Insira um valor em R$: 100\n",
            "O novo valor é 85.0\n"
          ]
        }
      ]
    },
    {
      "cell_type": "code",
      "source": [
        "# 2. Faça um programa que leia a validade das informações:\n",
        "    #a. Idade: entre 0 e 150;\n",
        "    #b. Salário: maior que 0;\n",
        "    #c. Sexo: M, F ou Outro;\n",
        "  #O programa deve imprimir uma mensagem de erro para cada informação inválida.\n",
        "\n",
        "def validacao (idade, salario, sexo):\n",
        "  if idade >= 0 and idade <= 150:\n",
        "    print(f'A idade é {idade}')\n",
        "  else: print('Informação inválida: idade')\n",
        "  if salario > 0:\n",
        "    print(f'O salário é {salario}')\n",
        "  else: print('Informação inválida: salario')\n",
        "  if sexo.lower() == 'm':\n",
        "    print('O sexo é masculino')\n",
        "  elif sexo.lower() == 'f':\n",
        "    print('O sexo é feminino')\n",
        "  elif sexo.lower() == 'outro':\n",
        "    print('O sexo é outro')\n",
        "  elif sexo.lower() == 'o':\n",
        "    print('O sexo é outro')\n",
        "  else: print('Informação inválida: sexo')\n",
        "\n",
        "validacao(107,1500,'O')"
      ],
      "metadata": {
        "colab": {
          "base_uri": "https://localhost:8080/"
        },
        "id": "kLhyj4t1_44P",
        "outputId": "0af2afa8-c0d6-4967-fb61-70a96da45876"
      },
      "execution_count": null,
      "outputs": [
        {
          "output_type": "stream",
          "name": "stdout",
          "text": [
            "A idade é 107\n",
            "O salário é 1500\n",
            "O sexo é outro\n"
          ]
        }
      ]
    },
    {
      "cell_type": "code",
      "source": [
        "# 3. Vamos fazer um programa para verificar quem é o assassino de um crime. Para descobrir o assassino, a polícia faz um pequeno questionário com 5\n",
        "# perguntas onde a resposta só pode ser sim ou não:\n",
        "  #a. Mora perto da vítima?\n",
        "  #b. Já trabalhou com a vítima?\n",
        "  #c. Telefonou para a vítima?\n",
        "  #d. Esteve no local do crime?\n",
        "  #e. Devia para a vítima?\n",
        "# Cada resposta sim dá um ponto para o suspeito. A polícia considera que os suspeitos com 5 pontos são os assassinos, com 4 a 3 pontos são cúmplices e\n",
        "# 2 pontos são apenas suspeitos, necessitando outras investigações. Valores iguais ou abaixo de 1 são liberados.\n",
        "\n",
        "respostas = []\n",
        "\n",
        "def somatorio_respostas (respostas):\n",
        "  contagem = respostas.count('s')\n",
        "  print('O número total de pontos é/são:', contagem)\n",
        "  print('Logo e entrevistade é:')\n",
        "  if contagem == 5:\n",
        "    print('Assassine')\n",
        "  elif contagem >= 3 and contagem <= 4:\n",
        "    print('Cúmplice')\n",
        "  elif contagem == 2:\n",
        "    print('Suspeite')\n",
        "  else:\n",
        "    print('Liberade')\n",
        "\n",
        "def questionario (*args):\n",
        "  print('Responda com s para sim e n para não')\n",
        "  respostas.append(input('Mora perto da vítima? ').lower())\n",
        "  respostas.append(input('Já trabalhou com a vítima? ').lower())\n",
        "  respostas.append(input('Telefonou para a vítima? ').lower())\n",
        "  respostas.append(input('Esteve no local do crime? ').lower())\n",
        "  respostas.append(input('Devia para a vítima? ').lower())\n",
        "  print('Sues respostas são: ',respostas)\n",
        "\n",
        "questionario()\n",
        "somatorio_respostas(respostas)"
      ],
      "metadata": {
        "colab": {
          "base_uri": "https://localhost:8080/"
        },
        "id": "9PbWqB3RE13h",
        "outputId": "e91f5654-8c17-47c0-9712-589d9d7ed7ea"
      },
      "execution_count": null,
      "outputs": [
        {
          "output_type": "stream",
          "name": "stdout",
          "text": [
            "Responda com s para sim e n para não\n",
            "Mora perto da vítima? s\n",
            "Já trabalhou com a vítima? n\n",
            "Telefonou para a vítima? s\n",
            "Esteve no local do crime? n\n",
            "Devia para a vítima? n\n",
            "Sues respostas são:  ['s', 'n', 's', 'n', 'n']\n",
            "O número total de pontos é/são: 2\n",
            "Logo e entrevistade é:\n",
            "Suspeite\n"
          ]
        }
      ]
    },
    {
      "cell_type": "code",
      "source": [
        "# 4. Faça um programa que imprima a tabuada do 9 (de 9*1 a 9*10) usando loops\n",
        "\n",
        "multiplicador = [1, 2, 3, 4, 5, 6, 7, 8, 9, 10]\n",
        "\n",
        "for numero in multiplicador:\n",
        "  tabuada = 9 * numero\n",
        "  print(f'9 x {numero} = {tabuada}')"
      ],
      "metadata": {
        "colab": {
          "base_uri": "https://localhost:8080/"
        },
        "id": "XGeHKeJeY8xg",
        "outputId": "748802d6-18df-4cbc-f481-5dab76c20929"
      },
      "execution_count": null,
      "outputs": [
        {
          "output_type": "stream",
          "name": "stdout",
          "text": [
            "9 x 1 = 9\n",
            "9 x 2 = 18\n",
            "9 x 3 = 27\n",
            "9 x 4 = 36\n",
            "9 x 5 = 45\n",
            "9 x 6 = 54\n",
            "9 x 7 = 63\n",
            "9 x 8 = 72\n",
            "9 x 9 = 81\n",
            "9 x 10 = 90\n"
          ]
        }
      ]
    },
    {
      "cell_type": "markdown",
      "source": [
        "Módulo II"
      ],
      "metadata": {
        "id": "XfINOd6Sdd__"
      }
    },
    {
      "cell_type": "code",
      "source": [
        "# 1. Faça um programa que olhe todos os itens de uma lista e diga quantos deles são pares.\n",
        "\n",
        "lista = [1,2,3,4,5,6,7,8,9,10]\n",
        "contagem = 0\n",
        "\n",
        "def e_par (dados):\n",
        "  for num in dados:\n",
        "    if num % 2 == 0:\n",
        "      global contagem\n",
        "      contagem += 1\n",
        "  print(contagem)\n",
        "  \n",
        "e_par(lista)"
      ],
      "metadata": {
        "colab": {
          "base_uri": "https://localhost:8080/"
        },
        "id": "vwSOEB_ndgdr",
        "outputId": "bcac37e8-9067-46c4-af1e-1111a25d919c"
      },
      "execution_count": null,
      "outputs": [
        {
          "output_type": "stream",
          "name": "stdout",
          "text": [
            "5\n"
          ]
        }
      ]
    },
    {
      "cell_type": "code",
      "source": [
        "# 2. Faça um programa que peça para o usuário digitar uma palavra e imprima cada letra em uma linha.\n",
        "\n",
        "word = input('Type any word: ')\n",
        "\n",
        "def printletters (word):\n",
        "  for letters in word:\n",
        "    print(letters)\n",
        "\n",
        "printletters(word)"
      ],
      "metadata": {
        "colab": {
          "base_uri": "https://localhost:8080/"
        },
        "id": "eae7xKEM7FsA",
        "outputId": "f74e4b86-a2ef-4942-e37a-3992385a020c"
      },
      "execution_count": null,
      "outputs": [
        {
          "output_type": "stream",
          "name": "stdout",
          "text": [
            "Type any word: banana\n",
            "b\n",
            "a\n",
            "n\n",
            "a\n",
            "n\n",
            "a\n"
          ]
        }
      ]
    },
    {
      "cell_type": "code",
      "source": [
        "# 3. Faça uma função que recebe duas listas e retorna a soma item a item dessas listas.\n",
        "# Exemplo: Se a função receber as listas [1,4,3] e [3,5,1], então a função deve\n",
        "# retornar [1+3, 4+5, 3+1] = [4, 9, 4].\n",
        "\n",
        "l1 = [1, 4, 3]\n",
        "l2 = [3, 5, 1]\n",
        "\n",
        "def soma (lista1, lista2):\n",
        "  ls = [sum(num) for num in zip(lista1, lista2)]\n",
        "  print(ls)\n",
        "\n",
        "soma(l1, l2)"
      ],
      "metadata": {
        "colab": {
          "base_uri": "https://localhost:8080/"
        },
        "id": "3_PIlSS1FTWY",
        "outputId": "60343726-a4c3-4475-8c74-f637c8cafb6b"
      },
      "execution_count": null,
      "outputs": [
        {
          "output_type": "stream",
          "name": "stdout",
          "text": [
            "[4, 9, 4]\n"
          ]
        }
      ]
    },
    {
      "cell_type": "code",
      "source": [
        "# 4. Crie um dicionário cujas chaves são os meses do ano e os valores são a duração (em dias) de cada mês.\n",
        "\n",
        "dict_mes = {\n",
        "    'jan': 31, \n",
        "    'fev': 28,\n",
        "    'mar': 31,\n",
        "    'abr': 30,\n",
        "    'mai': 31,\n",
        "    'jun': 30,\n",
        "    'jul': 31, \n",
        "    'ago': 31,\n",
        "    'set': 30,\n",
        "    'out': 31,\n",
        "    'nov': 30,\n",
        "    'jun': 31\n",
        "    }\n",
        "print(dict_mes)"
      ],
      "metadata": {
        "colab": {
          "base_uri": "https://localhost:8080/"
        },
        "id": "X4E9pGuUJPG0",
        "outputId": "399ef386-fc06-4535-9c8b-4eefcfcb4dc3"
      },
      "execution_count": null,
      "outputs": [
        {
          "output_type": "stream",
          "name": "stdout",
          "text": [
            "{'jan': 31, 'fev': 28, 'mar': 31, 'abr': 30, 'mai': 31, 'jun': 31, 'jul': 31, 'ago': 31, 'set': 30, 'out': 31, 'nov': 30}\n"
          ]
        }
      ]
    },
    {
      "cell_type": "code",
      "source": [
        "# 5. Imprima as chaves seguidas dos seus valores para dicionário criado no exercício anterior.\n",
        "# Exemplo:\n",
        "# Janeiro - 31\n",
        "# Fevereiro - 28\n",
        "# Março - 31\n",
        "# Etc...\n",
        "\n",
        "for key in dict_mes:\n",
        "  print(f'{key} - {dict_mes[key]}')"
      ],
      "metadata": {
        "colab": {
          "base_uri": "https://localhost:8080/"
        },
        "id": "3SXtsnWgKgQk",
        "outputId": "9c6a32af-56a3-4291-ef0e-f389e2bbe9b5"
      },
      "execution_count": null,
      "outputs": [
        {
          "output_type": "stream",
          "name": "stdout",
          "text": [
            "jan - 31\n",
            "fev - 28\n",
            "mar - 31\n",
            "abr - 30\n",
            "mai - 31\n",
            "jun - 31\n",
            "jul - 31\n",
            "ago - 31\n",
            "set - 30\n",
            "out - 31\n",
            "nov - 30\n"
          ]
        }
      ]
    },
    {
      "cell_type": "markdown",
      "source": [
        "Módulo III"
      ],
      "metadata": {
        "id": "O2h-DY3Ag4eV"
      }
    },
    {
      "cell_type": "code",
      "source": [
        "# 1 - Neste exercício você deve criar um programa que abra o arquivo \"alunos.csv\" e imprima o conteúdo do arquivo linha a linha.\n",
        "  # Note que esse é o primeiro exercício de uma sequência, então o seu código\n",
        "  # pode ser reaproveitado nos exercícios seguintes. Dito isso, a recomendação é\n",
        "  # usar a biblioteca CSV para ler o arquivo mesmo que não seja realmente\n",
        "  # necessário para esse primeiro item.\n",
        "\n",
        "import csv\n",
        "\n",
        "with open('alunos.csv', 'r', encoding='utf-8') as alunos_csv:\n",
        "  leitor = csv.reader(alunos_csv)\n",
        "  for linha in leitor:\n",
        "    print(linha)"
      ],
      "metadata": {
        "colab": {
          "base_uri": "https://localhost:8080/"
        },
        "id": "EiUyamSVg7da",
        "outputId": "a4f3742c-eae2-4287-dfcb-2c9d351ba755"
      },
      "execution_count": 21,
      "outputs": [
        {
          "output_type": "stream",
          "name": "stdout",
          "text": [
            "['RA', 'Nome', 'Frequencia', 'Prova_1', 'Prova_2', 'Prova_3', 'Prova_4']\n",
            "['110201', 'Antonio Carlos', '20', '6.5', '8.5', '7', '6']\n",
            "['110212', 'Ana Beatriz', '20', '7', '7', '7', '8']\n",
            "['110218', 'Carlos Vernes', '17', '7', '7', '7', '7']\n",
            "['110307', 'Francisco Cunha', '20', '9', '8.5', '8.5', '10']\n",
            "['110275', 'Sandra Rosa', '15', '6.5', '7.5', '7', '7']\n",
            "['110281', 'Juliana Arruda', '18', '7.5', '7', '7.5', '8']\n",
            "['110301', 'Joao Galo', '20', '5', '6.5', '7', '5']\n",
            "['110263', 'José Valente', '20', '10', '10', '10', '10']\n",
            "['110271', 'Maria Ferreira', '19', '9.5', '8', '7', '10']\n",
            "['110236', 'Adriana Tavares', '20', '8', '8', '8', '8']\n"
          ]
        }
      ]
    },
    {
      "cell_type": "code",
      "source": [
        "# 2 - Para o segundo exercício, você deve criar um programa que realize uma cópia do arquivo \"alunos.csv\". \n",
        "# Essa cópia deve ser um arquivo chamado \"alunos_copia.csv\".\n",
        "  # Novamente, aqui você também não precisa utilizar a biblioteca CSV mas se\n",
        "  # usar, seu código pode ser reutilizado na próxima questão sem muitas modificações.\n",
        "\n",
        "with open('alunos.csv', 'r', encoding='utf-8') as alunos_csv:\n",
        "  leitor = csv.reader(alunos_csv)\n",
        "  with open('alunos_copia.csv', 'w') as alunos_copia_csv:\n",
        "    escritor = csv.writer(alunos_copia_csv)\n",
        "    for linha in leitor:\n",
        "      escritor.writerow(linha)\n",
        "\n",
        "with open('alunos_copia.csv', 'r') as alunos_copia_csv:\n",
        "  leitor = csv.reader(alunos_copia_csv)\n",
        "  for linhas in leitor:\n",
        "    print(linhas)"
      ],
      "metadata": {
        "colab": {
          "base_uri": "https://localhost:8080/"
        },
        "id": "bPcvppG3j2JJ",
        "outputId": "819313f8-5cb9-42cc-dd0f-e2a60aecb200"
      },
      "execution_count": 22,
      "outputs": [
        {
          "output_type": "stream",
          "name": "stdout",
          "text": [
            "['RA', 'Nome', 'Frequencia', 'Prova_1', 'Prova_2', 'Prova_3', 'Prova_4']\n",
            "['110201', 'Antonio Carlos', '20', '6.5', '8.5', '7', '6']\n",
            "['110212', 'Ana Beatriz', '20', '7', '7', '7', '8']\n",
            "['110218', 'Carlos Vernes', '17', '7', '7', '7', '7']\n",
            "['110307', 'Francisco Cunha', '20', '9', '8.5', '8.5', '10']\n",
            "['110275', 'Sandra Rosa', '15', '6.5', '7.5', '7', '7']\n",
            "['110281', 'Juliana Arruda', '18', '7.5', '7', '7.5', '8']\n",
            "['110301', 'Joao Galo', '20', '5', '6.5', '7', '5']\n",
            "['110263', 'José Valente', '20', '10', '10', '10', '10']\n",
            "['110271', 'Maria Ferreira', '19', '9.5', '8', '7', '10']\n",
            "['110236', 'Adriana Tavares', '20', '8', '8', '8', '8']\n"
          ]
        }
      ]
    },
    {
      "cell_type": "code",
      "source": [
        "# 3 - Finalmente chegamos ao último exercício dessa sequência relacionada à manipulação de arquivos.\n",
        "  # Neste exercício você deve criar um novo arquivo chamado\n",
        "  # \"alunos_media.csv\". Esse novo arquivo é uma cópia de \"alunos.csv\" porém\n",
        "  # com uma coluna a mais chamada \"Média\" que vai abrigar os valores das\n",
        "  # médias das provas de cada aluno da lista.\n",
        "\n",
        "  # Se você utilizou a biblioteca CSV para realizar os dois primeiros exercícios,\n",
        "  # muito será reaproveitado aqui. A biblioteca CSV permite a interpretação de\n",
        "  # cada linha como listas, que são fáceis de manipular.\n",
        "\n",
        "with open('alunos.csv', 'r', encoding='utf-8') as alunos_csv:\n",
        "  leitor = csv.reader(alunos_csv)\n",
        "  header_media = next(leitor)\n",
        "  with open('alunos_media.csv', 'w') as alunos_media_csv:\n",
        "    escritor = csv.writer(alunos_media_csv)\n",
        "    header_media.append('Média')\n",
        "    escritor.writerow(header_media)\n",
        "    for linha in leitor:\n",
        "      for valor in range(3,7):\n",
        "        linha[valor] = float(linha[valor])\n",
        "      linha.append(sum(linha[3:7])/len(linha[3:7]))\n",
        "      escritor.writerow(linha)\n",
        "\n",
        "with open('alunos_media.csv', 'r') as alunos_media_csv:\n",
        "  leitor = csv.reader(alunos_media_csv)\n",
        "  for linhas in leitor:\n",
        "    print(linhas)"
      ],
      "metadata": {
        "colab": {
          "base_uri": "https://localhost:8080/"
        },
        "id": "Y_CIjzWjso4Y",
        "outputId": "8a8f7342-3e56-42f7-a062-fcd73e7efb54"
      },
      "execution_count": 25,
      "outputs": [
        {
          "output_type": "stream",
          "name": "stdout",
          "text": [
            "['RA', 'Nome', 'Frequencia', 'Prova_1', 'Prova_2', 'Prova_3', 'Prova_4', 'Média']\n",
            "['110201', 'Antonio Carlos', '20', '6.5', '8.5', '7.0', '6.0', '7.0']\n",
            "['110212', 'Ana Beatriz', '20', '7.0', '7.0', '7.0', '8.0', '7.25']\n",
            "['110218', 'Carlos Vernes', '17', '7.0', '7.0', '7.0', '7.0', '7.0']\n",
            "['110307', 'Francisco Cunha', '20', '9.0', '8.5', '8.5', '10.0', '9.0']\n",
            "['110275', 'Sandra Rosa', '15', '6.5', '7.5', '7.0', '7.0', '7.0']\n",
            "['110281', 'Juliana Arruda', '18', '7.5', '7.0', '7.5', '8.0', '7.5']\n",
            "['110301', 'Joao Galo', '20', '5.0', '6.5', '7.0', '5.0', '5.875']\n",
            "['110263', 'José Valente', '20', '10.0', '10.0', '10.0', '10.0', '10.0']\n",
            "['110271', 'Maria Ferreira', '19', '9.5', '8.0', '7.0', '10.0', '8.625']\n",
            "['110236', 'Adriana Tavares', '20', '8.0', '8.0', '8.0', '8.0', '8.0']\n"
          ]
        }
      ]
    },
    {
      "cell_type": "code",
      "source": [
        "# 4 - Você conhece Star Wars? Se trata, obviamente, da famosa saga espacial criada por George Lucas em 1977 e que deu origem a símbolos do cinema e\n",
        "# da cultura pop com o imponente vilão Darth Vader ou o simpático robô R2-D2. A ideia desse exercício é justamente extrair informações do\n",
        "# personagem Darth Vader através de uma API de Star Wars chamada SWAPI.\n",
        "\n",
        "  # Utilize a URL \"https://swapi.dev/api/people/4/\" para fazer a requisição dos dados de Darth Vader e extraia as informações \"name\" (nome), \"height\"\n",
        "  # (altura), \"mass\" (massa) e \"birth_year\" (ano de nascimento) e imprima cada dado em uma linha.\n",
        "\n",
        "  # Dica: caso não se lembre de como fazer isso, assista novamente a aula sobre API porque o exemplo da aula pode te ajudar.\n",
        "\n",
        "!pip install requests"
      ],
      "metadata": {
        "colab": {
          "base_uri": "https://localhost:8080/"
        },
        "id": "rV0Y2kZszJBN",
        "outputId": "5ea6203b-1525-47db-e093-3258f87c25ce"
      },
      "execution_count": 26,
      "outputs": [
        {
          "output_type": "stream",
          "name": "stdout",
          "text": [
            "Looking in indexes: https://pypi.org/simple, https://us-python.pkg.dev/colab-wheels/public/simple/\n",
            "Requirement already satisfied: requests in /usr/local/lib/python3.7/dist-packages (2.23.0)\n",
            "Requirement already satisfied: certifi>=2017.4.17 in /usr/local/lib/python3.7/dist-packages (from requests) (2022.6.15)\n",
            "Requirement already satisfied: idna<3,>=2.5 in /usr/local/lib/python3.7/dist-packages (from requests) (2.10)\n",
            "Requirement already satisfied: urllib3!=1.25.0,!=1.25.1,<1.26,>=1.21.1 in /usr/local/lib/python3.7/dist-packages (from requests) (1.24.3)\n",
            "Requirement already satisfied: chardet<4,>=3.0.2 in /usr/local/lib/python3.7/dist-packages (from requests) (3.0.4)\n"
          ]
        }
      ]
    },
    {
      "cell_type": "code",
      "source": [
        "import requests "
      ],
      "metadata": {
        "id": "WPS7WsoT0z9C"
      },
      "execution_count": 27,
      "outputs": []
    },
    {
      "cell_type": "code",
      "source": [
        "url = \"https://swapi.dev/api/people/4/\"\n",
        "\n",
        "req = requests.get(url)\n",
        "\n",
        "print(req.status_code)"
      ],
      "metadata": {
        "colab": {
          "base_uri": "https://localhost:8080/"
        },
        "id": "_d3ugaFb02_u",
        "outputId": "0b88a3ea-1625-4ed9-8ad8-0d4aec7f9972"
      },
      "execution_count": 28,
      "outputs": [
        {
          "output_type": "stream",
          "name": "stdout",
          "text": [
            "200\n"
          ]
        }
      ]
    },
    {
      "cell_type": "code",
      "source": [
        "dados = req.json()\n",
        "dados_selct = (dados['name'], dados['height'], dados['mass'], dados['birth_year'])\n",
        "for i in dados_selct:\n",
        "  print(i)"
      ],
      "metadata": {
        "colab": {
          "base_uri": "https://localhost:8080/"
        },
        "id": "_oVm05py1F1J",
        "outputId": "8d044a7f-13f4-4340-a738-bd05580dbc80"
      },
      "execution_count": 45,
      "outputs": [
        {
          "output_type": "stream",
          "name": "stdout",
          "text": [
            "Darth Vader\n",
            "202\n",
            "136\n",
            "41.9BBY\n"
          ]
        }
      ]
    },
    {
      "cell_type": "code",
      "source": [
        "# 5 - Em 2019 surgiram os primeiros casos de COVID-19 que se alastrou pelo mundo resultando numa pandemia. A proposta deste exercício é utilizar\n",
        "# uma API com informações de COVID-19 do mundo todo desde o início da proliferação e descobrir que dia o Brasil confirmou o primeiro caso de Coronavírus.\n",
        "\n",
        "  # Para fazer isso, utilize a URL \"https://api.covid19api.com/country/brazil\" em seu código. Ela retorna uma lista de dicionários, onde cada dicionário \n",
        "  # traz informações através das chaves:\n",
        "\n",
        "  # \"ID\", \"Country\", \"CountryCode\", \"Province\", \"City\",\n",
        "  # \"CityCode\",\"Lat\",\"Lon\",\"Confirmed\",\"Deaths\", \"Recovered\", \"Active\" e \"Date\".\n",
        "\n",
        "  # Utilize essas informações e retorne a data em que o Brasil confirmou o primeiro caso de COVID.\n",
        "\n",
        "url = \"https://api.covid19api.com/country/brazil\"\n",
        "req = requests.get(url)\n",
        "print(req.status_code)"
      ],
      "metadata": {
        "colab": {
          "base_uri": "https://localhost:8080/"
        },
        "id": "52y0aLBr4vLh",
        "outputId": "cec38922-e3db-49f4-c504-74ec4570830a"
      },
      "execution_count": 46,
      "outputs": [
        {
          "output_type": "stream",
          "name": "stdout",
          "text": [
            "200\n"
          ]
        }
      ]
    },
    {
      "cell_type": "code",
      "source": [
        "dados = req.json()\n",
        "for data, confirmado in sorted([(i['Date'], i['Confirmed']) for i in dados], key=lambda t:t[1]):\n",
        "  if confirmado == 1:\n",
        "    print (f'{confirmado}  -  {data}')"
      ],
      "metadata": {
        "colab": {
          "base_uri": "https://localhost:8080/"
        },
        "id": "kUl5oLjw5hJI",
        "outputId": "e69d4e3b-d767-464b-b528-dc338e63e0ab"
      },
      "execution_count": 64,
      "outputs": [
        {
          "output_type": "stream",
          "name": "stdout",
          "text": [
            "1  -  2020-02-26T00:00:00Z\n",
            "1  -  2020-02-27T00:00:00Z\n",
            "1  -  2020-02-28T00:00:00Z\n"
          ]
        }
      ]
    }
  ]
}