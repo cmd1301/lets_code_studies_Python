{
  "nbformat": 4,
  "nbformat_minor": 0,
  "metadata": {
    "colab": {
      "provenance": [],
      "authorship_tag": "ABX9TyPQrOyI3AftLJV9TczJMoWA",
      "include_colab_link": true
    },
    "kernelspec": {
      "name": "python3",
      "display_name": "Python 3"
    },
    "language_info": {
      "name": "python"
    }
  },
  "cells": [
    {
      "cell_type": "markdown",
      "metadata": {
        "id": "view-in-github",
        "colab_type": "text"
      },
      "source": [
        "<a href=\"https://colab.research.google.com/github/cmd1301/lets_code_studies_Python/blob/main/exercicios_lets_code_python.ipynb\" target=\"_parent\"><img src=\"https://colab.research.google.com/assets/colab-badge.svg\" alt=\"Open In Colab\"/></a>"
      ]
    },
    {
      "cell_type": "markdown",
      "source": [
        "# Exercícios Let's Code - Python"
      ],
      "metadata": {
        "id": "zf2j915H-y9a"
      }
    },
    {
      "cell_type": "markdown",
      "source": [
        "Módulo I"
      ],
      "metadata": {
        "id": "vORNjIy2_9jh"
      }
    },
    {
      "cell_type": "code",
      "source": [
        "# 1. Faça um programa que peça um valor monetário e diminua-o em 15%. Seu programa deve imprimir a mensagem “O novo valor é [valor]”.\n",
        "valor = float(input('Insira um valor em R$: '))\n",
        "nvalor = valor - 0.15*valor\n",
        "print('O novo valor é', nvalor)"
      ],
      "metadata": {
        "colab": {
          "base_uri": "https://localhost:8080/"
        },
        "id": "snV5Ec57_EbR",
        "outputId": "b3eae397-f5d3-46cf-a835-c6e22e394abe"
      },
      "execution_count": 6,
      "outputs": [
        {
          "output_type": "stream",
          "name": "stdout",
          "text": [
            "Insira um valor em R$: 100\n",
            "O novo valor é 85.0\n"
          ]
        }
      ]
    },
    {
      "cell_type": "code",
      "source": [
        "# 2. Faça um programa que leia a validade das informações:\n",
        "    #a. Idade: entre 0 e 150;\n",
        "    #b. Salário: maior que 0;\n",
        "    #c. Sexo: M, F ou Outro;\n",
        "  #O programa deve imprimir uma mensagem de erro para cada informação inválida.\n",
        "\n",
        "def validacao (idade, salario, sexo):\n",
        "  if idade >= 0 and idade <= 150:\n",
        "    print(f'A idade é {idade}')\n",
        "  else: print('Informação inválida: idade')\n",
        "  if salario > 0:\n",
        "    print(f'O salário é {salario}')\n",
        "  else: print('Informação inválida: salario')\n",
        "  if sexo.lower() == 'm':\n",
        "    print('O sexo é masculino')\n",
        "  elif sexo.lower() == 'f':\n",
        "    print('O sexo é feminino')\n",
        "  elif sexo.lower() == 'outro':\n",
        "    print('O sexo é outro')\n",
        "  elif sexo.lower() == 'o':\n",
        "    print('O sexo é outro')\n",
        "  else: print('Informação inválida: sexo')\n",
        "\n",
        "validacao(107,1500,'O')"
      ],
      "metadata": {
        "colab": {
          "base_uri": "https://localhost:8080/"
        },
        "id": "kLhyj4t1_44P",
        "outputId": "0af2afa8-c0d6-4967-fb61-70a96da45876"
      },
      "execution_count": 15,
      "outputs": [
        {
          "output_type": "stream",
          "name": "stdout",
          "text": [
            "A idade é 107\n",
            "O salário é 1500\n",
            "O sexo é outro\n"
          ]
        }
      ]
    },
    {
      "cell_type": "code",
      "source": [
        "# 3. Vamos fazer um programa para verificar quem é o assassino de um crime. Para descobrir o assassino, a polícia faz um pequeno questionário com 5\n",
        "# perguntas onde a resposta só pode ser sim ou não:\n",
        "  #a. Mora perto da vítima?\n",
        "  #b. Já trabalhou com a vítima?\n",
        "  #c. Telefonou para a vítima?\n",
        "  #d. Esteve no local do crime?\n",
        "  #e. Devia para a vítima?\n",
        "# Cada resposta sim dá um ponto para o suspeito. A polícia considera que os suspeitos com 5 pontos são os assassinos, com 4 a 3 pontos são cúmplices e\n",
        "# 2 pontos são apenas suspeitos, necessitando outras investigações. Valores iguais ou abaixo de 1 são liberados.\n",
        "\n",
        "respostas = []\n",
        "\n",
        "def somatorio_respostas (respostas):\n",
        "  contagem = respostas.count('s')\n",
        "  print('O número total de pontos é/são:', contagem)\n",
        "  print('Logo e entrevistade é:')\n",
        "  if contagem == 5:\n",
        "    print('Assassine')\n",
        "  elif contagem >= 3 and contagem <= 4:\n",
        "    print('Cúmplice')\n",
        "  elif contagem == 2:\n",
        "    print('Suspeite')\n",
        "  else:\n",
        "    print('Liberade')\n",
        "\n",
        "def questionario (*args):\n",
        "  print('Responda com s para sim e n para não')\n",
        "  respostas.append(input('Mora perto da vítima? ').lower())\n",
        "  respostas.append(input('Já trabalhou com a vítima? ').lower())\n",
        "  respostas.append(input('Telefonou para a vítima? ').lower())\n",
        "  respostas.append(input('Esteve no local do crime? ').lower())\n",
        "  respostas.append(input('Devia para a vítima? ').lower())\n",
        "  print('Sues respostas são: ',respostas)\n",
        "\n",
        "questionario()\n",
        "somatorio_respostas(respostas)"
      ],
      "metadata": {
        "colab": {
          "base_uri": "https://localhost:8080/"
        },
        "id": "9PbWqB3RE13h",
        "outputId": "e91f5654-8c17-47c0-9712-589d9d7ed7ea"
      },
      "execution_count": 111,
      "outputs": [
        {
          "output_type": "stream",
          "name": "stdout",
          "text": [
            "Responda com s para sim e n para não\n",
            "Mora perto da vítima? s\n",
            "Já trabalhou com a vítima? n\n",
            "Telefonou para a vítima? s\n",
            "Esteve no local do crime? n\n",
            "Devia para a vítima? n\n",
            "Sues respostas são:  ['s', 'n', 's', 'n', 'n']\n",
            "O número total de pontos é/são: 2\n",
            "Logo e entrevistade é:\n",
            "Suspeite\n"
          ]
        }
      ]
    },
    {
      "cell_type": "code",
      "source": [
        "# 4. Faça um programa que imprima a tabuada do 9 (de 9*1 a 9*10) usando loops\n",
        "\n",
        "multiplicador = [1, 2, 3, 4, 5, 6, 7, 8, 9, 10]\n",
        "\n",
        "for numero in multiplicador:\n",
        "  tabuada = 9 * numero\n",
        "  print(f'9 x {numero} = {tabuada}')"
      ],
      "metadata": {
        "colab": {
          "base_uri": "https://localhost:8080/"
        },
        "id": "XGeHKeJeY8xg",
        "outputId": "748802d6-18df-4cbc-f481-5dab76c20929"
      },
      "execution_count": 108,
      "outputs": [
        {
          "output_type": "stream",
          "name": "stdout",
          "text": [
            "9 x 1 = 9\n",
            "9 x 2 = 18\n",
            "9 x 3 = 27\n",
            "9 x 4 = 36\n",
            "9 x 5 = 45\n",
            "9 x 6 = 54\n",
            "9 x 7 = 63\n",
            "9 x 8 = 72\n",
            "9 x 9 = 81\n",
            "9 x 10 = 90\n"
          ]
        }
      ]
    },
    {
      "cell_type": "markdown",
      "source": [
        "Módulo II"
      ],
      "metadata": {
        "id": "XfINOd6Sdd__"
      }
    },
    {
      "cell_type": "code",
      "source": [
        "# 1. Faça um programa que olhe todos os itens de uma lista e diga quantos deles são pares.\n",
        "\n",
        "lista = [1,2,3,4,5,6,7,8,9,10]\n",
        "contagem = 0\n",
        "\n",
        "def e_par (dados):\n",
        "  for num in dados:\n",
        "    if num % 2 == 0:\n",
        "      global contagem\n",
        "      contagem += 1\n",
        "  print(contagem)\n",
        "  \n",
        "e_par(lista)"
      ],
      "metadata": {
        "colab": {
          "base_uri": "https://localhost:8080/"
        },
        "id": "vwSOEB_ndgdr",
        "outputId": "bcac37e8-9067-46c4-af1e-1111a25d919c"
      },
      "execution_count": 27,
      "outputs": [
        {
          "output_type": "stream",
          "name": "stdout",
          "text": [
            "5\n"
          ]
        }
      ]
    },
    {
      "cell_type": "code",
      "source": [
        "# 2. Faça um programa que peça para o usuário digitar uma palavra e imprima cada letra em uma linha.\n",
        "\n",
        "word = input('Type any word: ')\n",
        "\n",
        "def printletters (word):\n",
        "  for letters in word:\n",
        "    print(letters)\n",
        "\n",
        "printletters(word)"
      ],
      "metadata": {
        "colab": {
          "base_uri": "https://localhost:8080/"
        },
        "id": "eae7xKEM7FsA",
        "outputId": "f74e4b86-a2ef-4942-e37a-3992385a020c"
      },
      "execution_count": 29,
      "outputs": [
        {
          "output_type": "stream",
          "name": "stdout",
          "text": [
            "Type any word: banana\n",
            "b\n",
            "a\n",
            "n\n",
            "a\n",
            "n\n",
            "a\n"
          ]
        }
      ]
    },
    {
      "cell_type": "code",
      "source": [
        "# 3. Faça uma função que recebe duas listas e retorna a soma item a item dessas listas.\n",
        "# Exemplo: Se a função receber as listas [1,4,3] e [3,5,1], então a função deve\n",
        "# retornar [1+3, 4+5, 3+1] = [4, 9, 4].\n",
        "\n",
        "l1 = [1, 4, 3]\n",
        "l2 = [3, 5, 1]\n",
        "\n",
        "def soma (lista1, lista2):\n",
        "  ls = [sum(num) for num in zip(lista1, lista2)]\n",
        "  print(ls)\n",
        "\n",
        "soma(l1, l2)"
      ],
      "metadata": {
        "colab": {
          "base_uri": "https://localhost:8080/"
        },
        "id": "3_PIlSS1FTWY",
        "outputId": "60343726-a4c3-4475-8c74-f637c8cafb6b"
      },
      "execution_count": 34,
      "outputs": [
        {
          "output_type": "stream",
          "name": "stdout",
          "text": [
            "[4, 9, 4]\n"
          ]
        }
      ]
    },
    {
      "cell_type": "code",
      "source": [
        "# 4. Crie um dicionário cujas chaves são os meses do ano e os valores são a duração (em dias) de cada mês.\n",
        "\n",
        "dict_mes = {\n",
        "    'jan': 31, \n",
        "    'fev': 28,\n",
        "    'mar': 31,\n",
        "    'abr': 30,\n",
        "    'mai': 31,\n",
        "    'jun': 30,\n",
        "    'jul': 31, \n",
        "    'ago': 31,\n",
        "    'set': 30,\n",
        "    'out': 31,\n",
        "    'nov': 30,\n",
        "    'jun': 31\n",
        "    }\n",
        "print(dict_mes)"
      ],
      "metadata": {
        "colab": {
          "base_uri": "https://localhost:8080/"
        },
        "id": "X4E9pGuUJPG0",
        "outputId": "399ef386-fc06-4535-9c8b-4eefcfcb4dc3"
      },
      "execution_count": 35,
      "outputs": [
        {
          "output_type": "stream",
          "name": "stdout",
          "text": [
            "{'jan': 31, 'fev': 28, 'mar': 31, 'abr': 30, 'mai': 31, 'jun': 31, 'jul': 31, 'ago': 31, 'set': 30, 'out': 31, 'nov': 30}\n"
          ]
        }
      ]
    },
    {
      "cell_type": "code",
      "source": [
        "# 5. Imprima as chaves seguidas dos seus valores para dicionário criado no exercício anterior.\n",
        "# Exemplo:\n",
        "# Janeiro - 31\n",
        "# Fevereiro - 28\n",
        "# Março - 31\n",
        "# Etc...\n",
        "\n",
        "for key in dict_mes:\n",
        "  print(f'{key} - {dict_mes[key]}')"
      ],
      "metadata": {
        "colab": {
          "base_uri": "https://localhost:8080/"
        },
        "id": "3SXtsnWgKgQk",
        "outputId": "9c6a32af-56a3-4291-ef0e-f389e2bbe9b5"
      },
      "execution_count": 38,
      "outputs": [
        {
          "output_type": "stream",
          "name": "stdout",
          "text": [
            "jan - 31\n",
            "fev - 28\n",
            "mar - 31\n",
            "abr - 30\n",
            "mai - 31\n",
            "jun - 31\n",
            "jul - 31\n",
            "ago - 31\n",
            "set - 30\n",
            "out - 31\n",
            "nov - 30\n"
          ]
        }
      ]
    }
  ]
}