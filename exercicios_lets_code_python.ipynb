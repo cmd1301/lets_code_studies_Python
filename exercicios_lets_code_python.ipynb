{
  "nbformat": 4,
  "nbformat_minor": 0,
  "metadata": {
    "colab": {
      "provenance": [],
      "authorship_tag": "ABX9TyMrBUxFn5Y6N+a0usg2yfGe",
      "include_colab_link": true
    },
    "kernelspec": {
      "name": "python3",
      "display_name": "Python 3"
    },
    "language_info": {
      "name": "python"
    }
  },
  "cells": [
    {
      "cell_type": "markdown",
      "metadata": {
        "id": "view-in-github",
        "colab_type": "text"
      },
      "source": [
        "<a href=\"https://colab.research.google.com/github/cmd1301/lets_code_studies_Python/blob/main/exercicios_lets_code_python.ipynb\" target=\"_parent\"><img src=\"https://colab.research.google.com/assets/colab-badge.svg\" alt=\"Open In Colab\"/></a>"
      ]
    },
    {
      "cell_type": "markdown",
      "source": [
        "# Exercícios Let's Code - Python"
      ],
      "metadata": {
        "id": "zf2j915H-y9a"
      }
    },
    {
      "cell_type": "markdown",
      "source": [
        "Módulo I"
      ],
      "metadata": {
        "id": "vORNjIy2_9jh"
      }
    },
    {
      "cell_type": "code",
      "source": [
        "# 1. Faça um programa que peça um valor monetário e diminua-o em 15%. Seu programa deve imprimir a mensagem “O novo valor é [valor]”.\n",
        "valor = float(input('Insira um valor em R$: '))\n",
        "nvalor = valor - 0.15*valor\n",
        "print('O novo valor é', nvalor)"
      ],
      "metadata": {
        "colab": {
          "base_uri": "https://localhost:8080/"
        },
        "id": "snV5Ec57_EbR",
        "outputId": "b3eae397-f5d3-46cf-a835-c6e22e394abe"
      },
      "execution_count": 6,
      "outputs": [
        {
          "output_type": "stream",
          "name": "stdout",
          "text": [
            "Insira um valor em R$: 100\n",
            "O novo valor é 85.0\n"
          ]
        }
      ]
    },
    {
      "cell_type": "code",
      "source": [
        "# 2. Faça um programa que leia a validade das informações:\n",
        "    #a. Idade: entre 0 e 150;\n",
        "    #b. Salário: maior que 0;\n",
        "    #c. Sexo: M, F ou Outro;\n",
        "  #O programa deve imprimir uma mensagem de erro para cada informação inválida.\n",
        "\n",
        "def validacao (idade, salario, sexo):\n",
        "  if idade >= 0 and idade <= 150:\n",
        "    print(f'A idade é {idade}')\n",
        "  else: print('Informação inválida: idade')\n",
        "  if salario > 0:\n",
        "    print(f'O salário é {salario}')\n",
        "  else: print('Informação inválida: salario')\n",
        "  if sexo.lower() == 'm':\n",
        "    print('O sexo é masculino')\n",
        "  elif sexo.lower() == 'f':\n",
        "    print('O sexo é feminino')\n",
        "  elif sexo.lower() == 'outro':\n",
        "    print('O sexo é outro')\n",
        "  elif sexo.lower() == 'o':\n",
        "    print('O sexo é outro')\n",
        "  else: print('Informação inválida: sexo')\n",
        "\n",
        "validacao(107,1500,'O')"
      ],
      "metadata": {
        "colab": {
          "base_uri": "https://localhost:8080/"
        },
        "id": "kLhyj4t1_44P",
        "outputId": "0af2afa8-c0d6-4967-fb61-70a96da45876"
      },
      "execution_count": 15,
      "outputs": [
        {
          "output_type": "stream",
          "name": "stdout",
          "text": [
            "A idade é 107\n",
            "O salário é 1500\n",
            "O sexo é outro\n"
          ]
        }
      ]
    },
    {
      "cell_type": "code",
      "source": [
        "# 3. Vamos fazer um programa para verificar quem é o assassino de um crime. Para descobrir o assassino, a polícia faz um pequeno questionário com 5\n",
        "# perguntas onde a resposta só pode ser sim ou não:\n",
        "  #a. Mora perto da vítima?\n",
        "  #b. Já trabalhou com a vítima?\n",
        "  #c. Telefonou para a vítima?\n",
        "  #d. Esteve no local do crime?\n",
        "  #e. Devia para a vítima?\n",
        "# Cada resposta sim dá um ponto para o suspeito. A polícia considera que os suspeitos com 5 pontos são os assassinos, com 4 a 3 pontos são cúmplices e\n",
        "# 2 pontos são apenas suspeitos, necessitando outras investigações. Valores iguais ou abaixo de 1 são liberados.\n",
        "\n",
        "respostas = []\n",
        "\n",
        "def somatorio_respostas (respostas):\n",
        "  contagem = respostas.count('s')\n",
        "  print('O número total de pontos é/são:', contagem)\n",
        "  print('Logo e entrevistade é:')\n",
        "  if contagem == 5:\n",
        "    print('Assassine')\n",
        "  elif contagem >= 3 and contagem <= 4:\n",
        "    print('Cúmplice')\n",
        "  elif contagem == 2:\n",
        "    print('Suspeite')\n",
        "  else:\n",
        "    print('Liberade')\n",
        "\n",
        "def questionario (*args):\n",
        "  print('Responda com s para sim e n para não')\n",
        "  respostas.append(input('Mora perto da vítima? ').lower())\n",
        "  respostas.append(input('Já trabalhou com a vítima? ').lower())\n",
        "  respostas.append(input('Telefonou para a vítima? ').lower())\n",
        "  respostas.append(input('Esteve no local do crime? ').lower())\n",
        "  respostas.append(input('Devia para a vítima? ').lower())\n",
        "  print('Sues respostas são: ',respostas)\n",
        "\n",
        "questionario()\n",
        "somatorio_respostas(respostas)"
      ],
      "metadata": {
        "colab": {
          "base_uri": "https://localhost:8080/"
        },
        "id": "9PbWqB3RE13h",
        "outputId": "e91f5654-8c17-47c0-9712-589d9d7ed7ea"
      },
      "execution_count": 111,
      "outputs": [
        {
          "output_type": "stream",
          "name": "stdout",
          "text": [
            "Responda com s para sim e n para não\n",
            "Mora perto da vítima? s\n",
            "Já trabalhou com a vítima? n\n",
            "Telefonou para a vítima? s\n",
            "Esteve no local do crime? n\n",
            "Devia para a vítima? n\n",
            "Sues respostas são:  ['s', 'n', 's', 'n', 'n']\n",
            "O número total de pontos é/são: 2\n",
            "Logo e entrevistade é:\n",
            "Suspeite\n"
          ]
        }
      ]
    },
    {
      "cell_type": "code",
      "source": [
        "# 4. Faça um programa que imprima a tabuada do 9 (de 9*1 a 9*10) usando loops\n",
        "\n",
        "multiplicador = [1, 2, 3, 4, 5, 6, 7, 8, 9, 10]\n",
        "\n",
        "for numero in multiplicador:\n",
        "  tabuada = 9 * numero\n",
        "  print(f'9 x {numero} = {tabuada}')"
      ],
      "metadata": {
        "colab": {
          "base_uri": "https://localhost:8080/"
        },
        "id": "XGeHKeJeY8xg",
        "outputId": "748802d6-18df-4cbc-f481-5dab76c20929"
      },
      "execution_count": 108,
      "outputs": [
        {
          "output_type": "stream",
          "name": "stdout",
          "text": [
            "9 x 1 = 9\n",
            "9 x 2 = 18\n",
            "9 x 3 = 27\n",
            "9 x 4 = 36\n",
            "9 x 5 = 45\n",
            "9 x 6 = 54\n",
            "9 x 7 = 63\n",
            "9 x 8 = 72\n",
            "9 x 9 = 81\n",
            "9 x 10 = 90\n"
          ]
        }
      ]
    },
    {
      "cell_type": "markdown",
      "source": [
        "Módulo II"
      ],
      "metadata": {
        "id": "XfINOd6Sdd__"
      }
    },
    {
      "cell_type": "code",
      "source": [],
      "metadata": {
        "id": "vwSOEB_ndgdr"
      },
      "execution_count": null,
      "outputs": []
    }
  ]
}